{
  "nbformat": 4,
  "nbformat_minor": 0,
  "metadata": {
    "colab": {
      "provenance": []
    },
    "kernelspec": {
      "name": "python3",
      "display_name": "Python 3"
    },
    "language_info": {
      "name": "python"
    }
  },
  "cells": [
    {
      "cell_type": "code",
      "source": [
        "first = \"BKC\"\n",
        "second =\"college \\n\"\n",
        "print ((first + second)*5)"
      ],
      "metadata": {
        "id": "ObT2cgEhhewc",
        "colab": {
          "base_uri": "https://localhost:8080/"
        },
        "outputId": "9e3fda67-cd72-44da-f7d4-eaad9d66e236"
      },
      "execution_count": 1658,
      "outputs": [
        {
          "output_type": "stream",
          "name": "stdout",
          "text": [
            "BKCcollege \n",
            "BKCcollege \n",
            "BKCcollege \n",
            "BKCcollege \n",
            "BKCcollege \n",
            "\n"
          ]
        }
      ]
    },
    {
      "cell_type": "code",
      "source": [],
      "metadata": {
        "id": "g-3K48qTU2M3"
      },
      "execution_count": 1658,
      "outputs": []
    },
    {
      "cell_type": "code",
      "source": [
        "a,b,c,=\"good\",\"morning\",18\n",
        "print(a,b,c)"
      ],
      "metadata": {
        "colab": {
          "base_uri": "https://localhost:8080/"
        },
        "id": "AT9Ibns9k9Ib",
        "outputId": "d9eeff43-9ba6-4542-896a-6ba7280323ab"
      },
      "execution_count": 1659,
      "outputs": [
        {
          "output_type": "stream",
          "name": "stdout",
          "text": [
            "good morning 18\n"
          ]
        }
      ]
    },
    {
      "cell_type": "code",
      "source": [
        "name =\"python programming languages\"\n",
        "print (name[5])\n",
        "print (name[-2])\n",
        "print (name[18])\n",
        "print (name[3:14])\n",
        "print (name[:20])"
      ],
      "metadata": {
        "colab": {
          "base_uri": "https://localhost:8080/"
        },
        "id": "PjbVc-J6mbbr",
        "outputId": "6b265262-8c5e-46db-d738-bff2412424dc"
      },
      "execution_count": 1660,
      "outputs": [
        {
          "output_type": "stream",
          "name": "stdout",
          "text": [
            "n\n",
            "e\n",
            " \n",
            "hon program\n",
            "python programming l\n"
          ]
        }
      ]
    },
    {
      "cell_type": "code",
      "source": [
        "x  = y = z = 1001\n",
        "print (x,y,z)"
      ],
      "metadata": {
        "colab": {
          "base_uri": "https://localhost:8080/"
        },
        "id": "IbZfYjq0m2vC",
        "outputId": "7196b782-9231-47c3-855e-ddeb2daa3fdc"
      },
      "execution_count": 1661,
      "outputs": [
        {
          "output_type": "stream",
          "name": "stdout",
          "text": [
            "1001 1001 1001\n"
          ]
        }
      ]
    },
    {
      "cell_type": "code",
      "source": [
        "a = B, c=\"college\",25\n",
        "print ( B,C,A)"
      ],
      "metadata": {
        "colab": {
          "base_uri": "https://localhost:8080/"
        },
        "id": "hFje12wlofUq",
        "outputId": "89f215cf-e893-442e-c5ed-90f3ea7724f3"
      },
      "execution_count": 1662,
      "outputs": [
        {
          "output_type": "stream",
          "name": "stdout",
          "text": [
            "college 25 10\n"
          ]
        }
      ]
    },
    {
      "cell_type": "code",
      "source": [
        "A=10\n",
        "B=20\n",
        "print(\"addtion of 10 and 20 is =\",A+B,)"
      ],
      "metadata": {
        "colab": {
          "base_uri": "https://localhost:8080/"
        },
        "id": "6TRzSww2o_Dk",
        "outputId": "a0ca923d-9b87-4eac-e192-323aeda8e7a0"
      },
      "execution_count": 1663,
      "outputs": [
        {
          "output_type": "stream",
          "name": "stdout",
          "text": [
            "addtion of 10 and 20 is = 30\n"
          ]
        }
      ]
    },
    {
      "cell_type": "code",
      "source": [
        "x = 25\n",
        "print (type(college))"
      ],
      "metadata": {
        "colab": {
          "base_uri": "https://localhost:8080/"
        },
        "id": "mdplIp8zpY4q",
        "outputId": "e8f487ba-143f-4a3f-ac86-5d34e899c90f"
      },
      "execution_count": 1664,
      "outputs": [
        {
          "output_type": "stream",
          "name": "stdout",
          "text": [
            "<class 'int'>\n"
          ]
        }
      ]
    },
    {
      "cell_type": "code",
      "source": [
        "name = 3.17\n",
        "print( type(system))"
      ],
      "metadata": {
        "colab": {
          "base_uri": "https://localhost:8080/"
        },
        "id": "DFt4tiejp3Wq",
        "outputId": "90750b5e-4bd5-4741-a566-7f2a19d7525e"
      },
      "execution_count": 1665,
      "outputs": [
        {
          "output_type": "stream",
          "name": "stdout",
          "text": [
            "<class 'int'>\n"
          ]
        }
      ]
    },
    {
      "cell_type": "code",
      "source": [
        "system =+200\n",
        "print(type(system))"
      ],
      "metadata": {
        "colab": {
          "base_uri": "https://localhost:8080/"
        },
        "id": "YChMeepgqGFL",
        "outputId": "225253fe-bfc7-4051-bb02-defd3af0ca50"
      },
      "execution_count": 1666,
      "outputs": [
        {
          "output_type": "stream",
          "name": "stdout",
          "text": [
            "<class 'int'>\n"
          ]
        }
      ]
    },
    {
      "cell_type": "code",
      "source": [
        "college = -100\n",
        "print(type(college))"
      ],
      "metadata": {
        "colab": {
          "base_uri": "https://localhost:8080/"
        },
        "id": "dKBQs9XKqTVU",
        "outputId": "165a3e93-d560-467d-dda4-3edbb5ea9708"
      },
      "execution_count": 1667,
      "outputs": [
        {
          "output_type": "stream",
          "name": "stdout",
          "text": [
            "<class 'int'>\n"
          ]
        }
      ]
    },
    {
      "cell_type": "code",
      "source": [
        "number = -100.333\n",
        "print(type(number))"
      ],
      "metadata": {
        "colab": {
          "base_uri": "https://localhost:8080/"
        },
        "id": "-N883EOaqn_K",
        "outputId": "e685e8ca-d599-426c-c36b-7fc554ace629"
      },
      "execution_count": 1668,
      "outputs": [
        {
          "output_type": "stream",
          "name": "stdout",
          "text": [
            "<class 'float'>\n"
          ]
        }
      ]
    },
    {
      "cell_type": "code",
      "source": [
        "run = 20.0\n",
        "print(type(run))"
      ],
      "metadata": {
        "colab": {
          "base_uri": "https://localhost:8080/"
        },
        "id": "xdEDGfbDq-8y",
        "outputId": "bf99fd0b-540f-4bc6-d109-b9b3b1f1f6c1"
      },
      "execution_count": 1669,
      "outputs": [
        {
          "output_type": "stream",
          "name": "stdout",
          "text": [
            "<class 'float'>\n"
          ]
        }
      ]
    },
    {
      "cell_type": "code",
      "source": [
        "yes = True\n",
        "print(type(yes))"
      ],
      "metadata": {
        "colab": {
          "base_uri": "https://localhost:8080/"
        },
        "id": "ibPn4Gp1rHqq",
        "outputId": "e7ad88b7-61ca-4517-c208-d190d5533b15"
      },
      "execution_count": 1670,
      "outputs": [
        {
          "output_type": "stream",
          "name": "stdout",
          "text": [
            "<class 'bool'>\n"
          ]
        }
      ]
    },
    {
      "cell_type": "code",
      "source": [
        "yes = 18\n",
        "print(type(yes))"
      ],
      "metadata": {
        "colab": {
          "base_uri": "https://localhost:8080/"
        },
        "id": "AV3mhngtrVVy",
        "outputId": "e569f603-3106-4845-dd4a-863f9173c5de"
      },
      "execution_count": 1671,
      "outputs": [
        {
          "output_type": "stream",
          "name": "stdout",
          "text": [
            "<class 'int'>\n"
          ]
        }
      ]
    },
    {
      "cell_type": "code",
      "source": [
        "roll_number = 101\n",
        "print (type(roll_number))"
      ],
      "metadata": {
        "colab": {
          "base_uri": "https://localhost:8080/"
        },
        "id": "zJ9BrF9frjgq",
        "outputId": "c2dad0d5-1356-4e43-8d38-f768e7a8af32"
      },
      "execution_count": 1672,
      "outputs": [
        {
          "output_type": "stream",
          "name": "stdout",
          "text": [
            "<class 'int'>\n"
          ]
        }
      ]
    },
    {
      "cell_type": "code",
      "source": [
        "value =27.12\n",
        "print (type(value ))"
      ],
      "metadata": {
        "colab": {
          "base_uri": "https://localhost:8080/"
        },
        "id": "LgoRmhu8r0ky",
        "outputId": "3602e571-3a10-4bfa-f603-38537d460224"
      },
      "execution_count": 1673,
      "outputs": [
        {
          "output_type": "stream",
          "name": "stdout",
          "text": [
            "<class 'float'>\n"
          ]
        }
      ]
    },
    {
      "cell_type": "code",
      "source": [
        "section =\"c\"\n",
        "print(type(section))"
      ],
      "metadata": {
        "colab": {
          "base_uri": "https://localhost:8080/"
        },
        "id": "ZXz7ch4xsVka",
        "outputId": "ebd31b01-2ed6-4540-bfe0-14397cc71b69"
      },
      "execution_count": 1674,
      "outputs": [
        {
          "output_type": "stream",
          "name": "stdout",
          "text": [
            "<class 'str'>\n"
          ]
        }
      ]
    },
    {
      "cell_type": "code",
      "source": [
        "program =\"programe\"\n",
        "print(type(program))"
      ],
      "metadata": {
        "colab": {
          "base_uri": "https://localhost:8080/"
        },
        "id": "6utS_1rasgbC",
        "outputId": "de688ee0-118a-4c51-d4be-bf9d2cd2849f"
      },
      "execution_count": 1675,
      "outputs": [
        {
          "output_type": "stream",
          "name": "stdout",
          "text": [
            "<class 'str'>\n"
          ]
        }
      ]
    },
    {
      "cell_type": "code",
      "source": [
        "string =\"python programing language\"\n",
        "print(string)\n",
        "print(type(string))"
      ],
      "metadata": {
        "colab": {
          "base_uri": "https://localhost:8080/"
        },
        "id": "SZ_hsJ8DsyaR",
        "outputId": "463da433-d940-4592-d2b4-9af3d1494b80"
      },
      "execution_count": 1676,
      "outputs": [
        {
          "output_type": "stream",
          "name": "stdout",
          "text": [
            "python programing language\n",
            "<class 'str'>\n"
          ]
        }
      ]
    },
    {
      "cell_type": "code",
      "source": [
        "first =\"BKC\"\n",
        "second =\"college\"\n",
        "print(first + second)"
      ],
      "metadata": {
        "colab": {
          "base_uri": "https://localhost:8080/"
        },
        "id": "2gAJIgqCtPbC",
        "outputId": "b4442d76-a80a-4f51-9800-ceacd4f0c432"
      },
      "execution_count": 1677,
      "outputs": [
        {
          "output_type": "stream",
          "name": "stdout",
          "text": [
            "BKCcollege\n"
          ]
        }
      ]
    },
    {
      "cell_type": "code",
      "source": [
        "first =\"BKC\"\n",
        "second =\"college\"\n",
        "print(first , second)"
      ],
      "metadata": {
        "colab": {
          "base_uri": "https://localhost:8080/"
        },
        "id": "Oz_gLxNXtrxL",
        "outputId": "733a315f-9444-4826-b9cd-d68c93b34ba2"
      },
      "execution_count": 1678,
      "outputs": [
        {
          "output_type": "stream",
          "name": "stdout",
          "text": [
            "BKC college\n"
          ]
        }
      ]
    },
    {
      "cell_type": "code",
      "source": [
        "first =\"BKC\"\n",
        "second =\"collage\"\n",
        "print (first,\"\",second)"
      ],
      "metadata": {
        "colab": {
          "base_uri": "https://localhost:8080/"
        },
        "id": "4xKzNs8euE5C",
        "outputId": "96d39401-852e-4e88-8181-e8b579085517"
      },
      "execution_count": 1679,
      "outputs": [
        {
          "output_type": "stream",
          "name": "stdout",
          "text": [
            "BKC  collage\n"
          ]
        }
      ]
    },
    {
      "cell_type": "code",
      "source": [
        "first = \"BKC\"\n",
        "second =\"collage\"\n",
        "print((first + second)*5)"
      ],
      "metadata": {
        "colab": {
          "base_uri": "https://localhost:8080/"
        },
        "id": "wUX02aElubA5",
        "outputId": "26159089-0499-4533-9cc2-35e11dd8c132"
      },
      "execution_count": 1680,
      "outputs": [
        {
          "output_type": "stream",
          "name": "stdout",
          "text": [
            "BKCcollageBKCcollageBKCcollageBKCcollageBKCcollage\n"
          ]
        }
      ]
    },
    {
      "cell_type": "code",
      "source": [
        "first = \"BKC\"\n",
        "second = \"collage\\n\"\n",
        "print ((first +second)*5)"
      ],
      "metadata": {
        "colab": {
          "base_uri": "https://localhost:8080/"
        },
        "id": "zsOjBBSLvFXq",
        "outputId": "f0fa5a9c-3cb8-4dea-e9ae-66bf5556346c"
      },
      "execution_count": 1681,
      "outputs": [
        {
          "output_type": "stream",
          "name": "stdout",
          "text": [
            "BKCcollage\n",
            "BKCcollage\n",
            "BKCcollage\n",
            "BKCcollage\n",
            "BKCcollage\n",
            "\n"
          ]
        }
      ]
    },
    {
      "cell_type": "code",
      "source": [
        "name = \"pyton programming languages\"\n",
        "print (name[5])\n",
        "print (name[-2])\n",
        "print (name[18])\n",
        "print  (name[3:14])\n",
        "print (name[:20])"
      ],
      "metadata": {
        "id": "5C2Ic0SRv071",
        "colab": {
          "base_uri": "https://localhost:8080/"
        },
        "outputId": "b229171b-524d-48c6-e500-d8474b70be15"
      },
      "execution_count": 1682,
      "outputs": [
        {
          "output_type": "stream",
          "name": "stdout",
          "text": [
            " \n",
            "e\n",
            "l\n",
            "on programm\n",
            "pyton programming la\n"
          ]
        }
      ]
    },
    {
      "cell_type": "code",
      "source": [
        "name =\"python pogramming languages\"\n",
        "print (name[18])"
      ],
      "metadata": {
        "colab": {
          "base_uri": "https://localhost:8080/"
        },
        "id": "zSvDPbz_GB_C",
        "outputId": "a41d53fb-37a2-44ec-c457-c79b93e1af04"
      },
      "execution_count": 1683,
      "outputs": [
        {
          "output_type": "stream",
          "name": "stdout",
          "text": [
            "l\n"
          ]
        }
      ]
    },
    {
      "cell_type": "code",
      "source": [
        "name =\"python programming languages\"\n",
        "print (name [-1])"
      ],
      "metadata": {
        "colab": {
          "base_uri": "https://localhost:8080/"
        },
        "id": "PNmnKPHXGaMR",
        "outputId": "ac9b4731-583e-4836-df45-5a1c8e6ce265"
      },
      "execution_count": 1684,
      "outputs": [
        {
          "output_type": "stream",
          "name": "stdout",
          "text": [
            "s\n"
          ]
        }
      ]
    },
    {
      "cell_type": "code",
      "source": [
        "name =\"python programming languages\"\n",
        "print (name[-22:-4])"
      ],
      "metadata": {
        "colab": {
          "base_uri": "https://localhost:8080/"
        },
        "id": "JJQa9Tx5GtHx",
        "outputId": "a300b14b-69db-4f6e-b265-6c6723329b00"
      },
      "execution_count": 1685,
      "outputs": [
        {
          "output_type": "stream",
          "name": "stdout",
          "text": [
            " programming langu\n"
          ]
        }
      ]
    },
    {
      "cell_type": "code",
      "source": [
        "name =\"python programming language\"\n",
        "print (name[::1])"
      ],
      "metadata": {
        "colab": {
          "base_uri": "https://localhost:8080/"
        },
        "id": "dwho3GbjHCra",
        "outputId": "6254c433-b3b1-46df-8d84-8bd566fcb962"
      },
      "execution_count": 1686,
      "outputs": [
        {
          "output_type": "stream",
          "name": "stdout",
          "text": [
            "python programming language\n"
          ]
        }
      ]
    },
    {
      "cell_type": "code",
      "source": [
        "name =\"python programming language\"\n",
        "print (name[::2])"
      ],
      "metadata": {
        "colab": {
          "base_uri": "https://localhost:8080/"
        },
        "id": "UFjIYLKpFbeu",
        "outputId": "da977137-19ba-457c-a54a-36c1b6404045"
      },
      "execution_count": 1687,
      "outputs": [
        {
          "output_type": "stream",
          "name": "stdout",
          "text": [
            "pto rgamn agae\n"
          ]
        }
      ]
    },
    {
      "cell_type": "code",
      "source": [
        "name =\"python programming language\"\n",
        "print (name[::-3])"
      ],
      "metadata": {
        "colab": {
          "base_uri": "https://localhost:8080/"
        },
        "id": "I73g3diRIGkO",
        "outputId": "b2ae89d9-4b7c-48bc-c4fc-943d37f041c1"
      },
      "execution_count": 1688,
      "outputs": [
        {
          "output_type": "stream",
          "name": "stdout",
          "text": [
            "euagmrrnt\n"
          ]
        }
      ]
    },
    {
      "cell_type": "code",
      "source": [
        "name =\"python programming language\"\n",
        "print (name[::-1])"
      ],
      "metadata": {
        "colab": {
          "base_uri": "https://localhost:8080/"
        },
        "id": "QX8Q6BeSIbBf",
        "outputId": "3bfe8a85-c6ce-4181-a962-dadb994a2a60"
      },
      "execution_count": 1689,
      "outputs": [
        {
          "output_type": "stream",
          "name": "stdout",
          "text": [
            "egaugnal gnimmargorp nohtyp\n"
          ]
        }
      ]
    },
    {
      "cell_type": "code",
      "source": [
        "string = \"hi good morning \"\n",
        "print (string)"
      ],
      "metadata": {
        "colab": {
          "base_uri": "https://localhost:8080/"
        },
        "id": "R38p7GxGIaeA",
        "outputId": "23e67d60-e0e0-49db-e735-f370de368063"
      },
      "execution_count": 1690,
      "outputs": [
        {
          "output_type": "stream",
          "name": "stdout",
          "text": [
            "hi good morning \n"
          ]
        }
      ]
    },
    {
      "cell_type": "code",
      "source": [
        "details =''' multi line comment\n",
        "hi ,good morning\n",
        "'''\n",
        "print(details)"
      ],
      "metadata": {
        "colab": {
          "base_uri": "https://localhost:8080/"
        },
        "id": "k5H-IKf8JAsw",
        "outputId": "96843247-c3d2-4746-c204-db75ce7f59a4"
      },
      "execution_count": 1691,
      "outputs": [
        {
          "output_type": "stream",
          "name": "stdout",
          "text": [
            " multi line comment\n",
            "hi ,good morning\n",
            "\n"
          ]
        }
      ]
    },
    {
      "cell_type": "code",
      "source": [
        "Details = [101]\n",
        "print(Details)\n",
        "print(type(Details))\n",
        "Details.append(85.12)\n",
        "print(Details)\n",
        "Details.append(True)\n",
        "print(Details)\n",
        "print(len(Details))\n",
        "print(Details.pop())\n",
        "print(Details)\n",
        "Details.append(\"vidya\")\n",
        "print(Details)\n",
        "Details.append(-99)\n",
        "print(Details)\n",
        "print(len(Details))\n",
        "print(Details[2])\n",
        "print(Details[-1])\n",
        "Details.append(\"BKC college\")\n",
        "print(Details)\n",
        "Details[3] = 99\n",
        "print(Details)\n",
        "print(Details[2:4])\n",
        "Details.insert(2,False)\n",
        "print(Details)\n",
        "Details.remove(False)\n",
        "print(Details)\n",
        "print(len(Details))\n",
        "print(Details[4])\n",
        "print(Details[::-1])\n",
        "print(Details.count(101))\n",
        "print(Details.clear())\n",
        "print(Details)\n",
        "print(type(Details))\n"
      ],
      "metadata": {
        "colab": {
          "base_uri": "https://localhost:8080/"
        },
        "id": "y0MiB5DyU41d",
        "outputId": "83880ae0-c37c-4032-cd1f-88dba0e19734"
      },
      "execution_count": 1692,
      "outputs": [
        {
          "output_type": "stream",
          "name": "stdout",
          "text": [
            "[101]\n",
            "<class 'list'>\n",
            "[101, 85.12]\n",
            "[101, 85.12, True]\n",
            "3\n",
            "True\n",
            "[101, 85.12]\n",
            "[101, 85.12, 'vidya']\n",
            "[101, 85.12, 'vidya', -99]\n",
            "4\n",
            "vidya\n",
            "-99\n",
            "[101, 85.12, 'vidya', -99, 'BKC college']\n",
            "[101, 85.12, 'vidya', 99, 'BKC college']\n",
            "['vidya', 99]\n",
            "[101, 85.12, False, 'vidya', 99, 'BKC college']\n",
            "[101, 85.12, 'vidya', 99, 'BKC college']\n",
            "5\n",
            "BKC college\n",
            "['BKC college', 99, 'vidya', 85.12, 101]\n",
            "1\n",
            "None\n",
            "[]\n",
            "<class 'list'>\n"
          ]
        }
      ]
    },
    {
      "cell_type": "code",
      "source": [
        "information = [\"vidya & srushti\"]\n",
        "print(information)\n",
        "print(type(information))\n",
        "information.append(85.12)\n",
        "print(information)\n",
        "information.append(True)\n",
        "print(information)\n",
        "print(len(information))\n",
        "print(information.pop())\n",
        "print(information)\n",
        "information.append(\"vidya\")\n",
        "print(information)\n",
        "information.append(-99)\n",
        "print(information)\n",
        "print(len(information))\n",
        "print(information[2])\n",
        "print(information[-1])\n",
        "information.append(\"BKC college\")"
      ],
      "metadata": {
        "colab": {
          "base_uri": "https://localhost:8080/"
        },
        "id": "FrGbAMA9dsfM",
        "outputId": "18445ae3-74e6-44a7-a2e7-9aebff0e5fe2"
      },
      "execution_count": 1693,
      "outputs": [
        {
          "output_type": "stream",
          "name": "stdout",
          "text": [
            "['vidya & srushti']\n",
            "<class 'list'>\n",
            "['vidya & srushti', 85.12]\n",
            "['vidya & srushti', 85.12, True]\n",
            "3\n",
            "True\n",
            "['vidya & srushti', 85.12]\n",
            "['vidya & srushti', 85.12, 'vidya']\n",
            "['vidya & srushti', 85.12, 'vidya', -99]\n",
            "4\n",
            "vidya\n",
            "-99\n"
          ]
        }
      ]
    }
  ]
}